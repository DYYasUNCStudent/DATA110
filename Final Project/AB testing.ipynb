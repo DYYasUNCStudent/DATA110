{
 "cells": [
  {
   "cell_type": "code",
   "execution_count": 1,
   "id": "97485e5f-86b2-4c60-afe6-2fe261b596fe",
   "metadata": {},
   "outputs": [],
   "source": [
    "import pandas as pd\n",
    "import numpy as np\n",
    "import matplotlib.pyplot as plt\n",
    "import seaborn as sns"
   ]
  },
  {
   "cell_type": "markdown",
   "id": "d1d30729-b7b7-4018-bab5-2dc60306282f",
   "metadata": {},
   "source": [
    "Import datasets:"
   ]
  },
  {
   "cell_type": "code",
   "execution_count": 2,
   "id": "96102494-bd22-4b5a-a871-9a0f4ed7432e",
   "metadata": {},
   "outputs": [],
   "source": [
    "raw_test_results = pd.read_csv(\"test_results.csv\")\n",
    "raw_user_table = pd.read_csv(\"user_table.csv\")"
   ]
  },
  {
   "cell_type": "markdown",
   "id": "c2d78b35-14b7-4930-8a4d-c355079af532",
   "metadata": {},
   "source": [
    "Merge two dataset using user_id, and drop all samples with missing values."
   ]
  },
  {
   "cell_type": "code",
   "execution_count": 3,
   "id": "0ebea3fd-fa2f-4649-b9bd-a6ba531905e7",
   "metadata": {},
   "outputs": [
    {
     "data": {
      "text/html": [
       "<div>\n",
       "<style scoped>\n",
       "    .dataframe tbody tr th:only-of-type {\n",
       "        vertical-align: middle;\n",
       "    }\n",
       "\n",
       "    .dataframe tbody tr th {\n",
       "        vertical-align: top;\n",
       "    }\n",
       "\n",
       "    .dataframe thead th {\n",
       "        text-align: right;\n",
       "    }\n",
       "</style>\n",
       "<table border=\"1\" class=\"dataframe\">\n",
       "  <thead>\n",
       "    <tr style=\"text-align: right;\">\n",
       "      <th></th>\n",
       "      <th>user_id</th>\n",
       "      <th>timestamp</th>\n",
       "      <th>source</th>\n",
       "      <th>device</th>\n",
       "      <th>operative_system</th>\n",
       "      <th>test</th>\n",
       "      <th>price</th>\n",
       "      <th>converted</th>\n",
       "      <th>city</th>\n",
       "      <th>country</th>\n",
       "      <th>lat</th>\n",
       "      <th>long</th>\n",
       "    </tr>\n",
       "  </thead>\n",
       "  <tbody>\n",
       "    <tr>\n",
       "      <th>0</th>\n",
       "      <td>604839</td>\n",
       "      <td>2015-05-08 03:38:34</td>\n",
       "      <td>ads_facebook</td>\n",
       "      <td>mobile</td>\n",
       "      <td>iOS</td>\n",
       "      <td>0</td>\n",
       "      <td>39</td>\n",
       "      <td>0</td>\n",
       "      <td>Buffalo</td>\n",
       "      <td>USA</td>\n",
       "      <td>42.89</td>\n",
       "      <td>-78.86</td>\n",
       "    </tr>\n",
       "    <tr>\n",
       "      <th>1</th>\n",
       "      <td>624057</td>\n",
       "      <td>2015-05-10 21:08:46</td>\n",
       "      <td>seo-google</td>\n",
       "      <td>mobile</td>\n",
       "      <td>android</td>\n",
       "      <td>0</td>\n",
       "      <td>39</td>\n",
       "      <td>0</td>\n",
       "      <td>Lakeville</td>\n",
       "      <td>USA</td>\n",
       "      <td>44.68</td>\n",
       "      <td>-93.24</td>\n",
       "    </tr>\n",
       "    <tr>\n",
       "      <th>2</th>\n",
       "      <td>317970</td>\n",
       "      <td>2015-04-04 15:01:23</td>\n",
       "      <td>ads-bing</td>\n",
       "      <td>mobile</td>\n",
       "      <td>android</td>\n",
       "      <td>0</td>\n",
       "      <td>39</td>\n",
       "      <td>0</td>\n",
       "      <td>Parma</td>\n",
       "      <td>USA</td>\n",
       "      <td>41.38</td>\n",
       "      <td>-81.73</td>\n",
       "    </tr>\n",
       "    <tr>\n",
       "      <th>3</th>\n",
       "      <td>685636</td>\n",
       "      <td>2015-05-07 07:26:01</td>\n",
       "      <td>direct_traffic</td>\n",
       "      <td>mobile</td>\n",
       "      <td>iOS</td>\n",
       "      <td>1</td>\n",
       "      <td>59</td>\n",
       "      <td>0</td>\n",
       "      <td>Fayetteville</td>\n",
       "      <td>USA</td>\n",
       "      <td>35.07</td>\n",
       "      <td>-78.90</td>\n",
       "    </tr>\n",
       "    <tr>\n",
       "      <th>4</th>\n",
       "      <td>820854</td>\n",
       "      <td>2015-05-24 11:04:40</td>\n",
       "      <td>ads_facebook</td>\n",
       "      <td>web</td>\n",
       "      <td>mac</td>\n",
       "      <td>0</td>\n",
       "      <td>39</td>\n",
       "      <td>0</td>\n",
       "      <td>Fishers</td>\n",
       "      <td>USA</td>\n",
       "      <td>39.95</td>\n",
       "      <td>-86.02</td>\n",
       "    </tr>\n",
       "  </tbody>\n",
       "</table>\n",
       "</div>"
      ],
      "text/plain": [
       "   user_id            timestamp          source  device operative_system  \\\n",
       "0   604839  2015-05-08 03:38:34    ads_facebook  mobile              iOS   \n",
       "1   624057  2015-05-10 21:08:46      seo-google  mobile          android   \n",
       "2   317970  2015-04-04 15:01:23        ads-bing  mobile          android   \n",
       "3   685636  2015-05-07 07:26:01  direct_traffic  mobile              iOS   \n",
       "4   820854  2015-05-24 11:04:40    ads_facebook     web              mac   \n",
       "\n",
       "   test  price  converted          city country    lat   long  \n",
       "0     0     39          0       Buffalo     USA  42.89 -78.86  \n",
       "1     0     39          0     Lakeville     USA  44.68 -93.24  \n",
       "2     0     39          0         Parma     USA  41.38 -81.73  \n",
       "3     1     59          0  Fayetteville     USA  35.07 -78.90  \n",
       "4     0     39          0       Fishers     USA  39.95 -86.02  "
      ]
     },
     "execution_count": 3,
     "metadata": {},
     "output_type": "execute_result"
    }
   ],
   "source": [
    "raw_data = pd.merge(raw_test_results, raw_user_table, on='user_id')\n",
    "raw_data = raw_data.dropna()\n",
    "raw_data.head(5)"
   ]
  },
  {
   "cell_type": "markdown",
   "id": "ab600588-1baa-490d-8f8c-d7c32e10d736",
   "metadata": {},
   "source": [
    "Remove timestamp and country columns."
   ]
  },
  {
   "cell_type": "code",
   "execution_count": 4,
   "id": "ae089808-2dc6-4898-a60b-1d4961a8cb66",
   "metadata": {},
   "outputs": [
    {
     "data": {
      "text/html": [
       "<div>\n",
       "<style scoped>\n",
       "    .dataframe tbody tr th:only-of-type {\n",
       "        vertical-align: middle;\n",
       "    }\n",
       "\n",
       "    .dataframe tbody tr th {\n",
       "        vertical-align: top;\n",
       "    }\n",
       "\n",
       "    .dataframe thead th {\n",
       "        text-align: right;\n",
       "    }\n",
       "</style>\n",
       "<table border=\"1\" class=\"dataframe\">\n",
       "  <thead>\n",
       "    <tr style=\"text-align: right;\">\n",
       "      <th></th>\n",
       "      <th>user_id</th>\n",
       "      <th>source</th>\n",
       "      <th>device</th>\n",
       "      <th>operative_system</th>\n",
       "      <th>price</th>\n",
       "      <th>converted</th>\n",
       "      <th>city</th>\n",
       "      <th>lat</th>\n",
       "      <th>long</th>\n",
       "    </tr>\n",
       "  </thead>\n",
       "  <tbody>\n",
       "    <tr>\n",
       "      <th>0</th>\n",
       "      <td>604839</td>\n",
       "      <td>ads_facebook</td>\n",
       "      <td>mobile</td>\n",
       "      <td>iOS</td>\n",
       "      <td>39</td>\n",
       "      <td>0</td>\n",
       "      <td>Buffalo</td>\n",
       "      <td>42.89</td>\n",
       "      <td>-78.86</td>\n",
       "    </tr>\n",
       "    <tr>\n",
       "      <th>1</th>\n",
       "      <td>624057</td>\n",
       "      <td>seo-google</td>\n",
       "      <td>mobile</td>\n",
       "      <td>android</td>\n",
       "      <td>39</td>\n",
       "      <td>0</td>\n",
       "      <td>Lakeville</td>\n",
       "      <td>44.68</td>\n",
       "      <td>-93.24</td>\n",
       "    </tr>\n",
       "    <tr>\n",
       "      <th>2</th>\n",
       "      <td>317970</td>\n",
       "      <td>ads-bing</td>\n",
       "      <td>mobile</td>\n",
       "      <td>android</td>\n",
       "      <td>39</td>\n",
       "      <td>0</td>\n",
       "      <td>Parma</td>\n",
       "      <td>41.38</td>\n",
       "      <td>-81.73</td>\n",
       "    </tr>\n",
       "    <tr>\n",
       "      <th>3</th>\n",
       "      <td>685636</td>\n",
       "      <td>direct_traffic</td>\n",
       "      <td>mobile</td>\n",
       "      <td>iOS</td>\n",
       "      <td>59</td>\n",
       "      <td>0</td>\n",
       "      <td>Fayetteville</td>\n",
       "      <td>35.07</td>\n",
       "      <td>-78.90</td>\n",
       "    </tr>\n",
       "    <tr>\n",
       "      <th>4</th>\n",
       "      <td>820854</td>\n",
       "      <td>ads_facebook</td>\n",
       "      <td>web</td>\n",
       "      <td>mac</td>\n",
       "      <td>39</td>\n",
       "      <td>0</td>\n",
       "      <td>Fishers</td>\n",
       "      <td>39.95</td>\n",
       "      <td>-86.02</td>\n",
       "    </tr>\n",
       "  </tbody>\n",
       "</table>\n",
       "</div>"
      ],
      "text/plain": [
       "   user_id          source  device operative_system  price  converted  \\\n",
       "0   604839    ads_facebook  mobile              iOS     39          0   \n",
       "1   624057      seo-google  mobile          android     39          0   \n",
       "2   317970        ads-bing  mobile          android     39          0   \n",
       "3   685636  direct_traffic  mobile              iOS     59          0   \n",
       "4   820854    ads_facebook     web              mac     39          0   \n",
       "\n",
       "           city    lat   long  \n",
       "0       Buffalo  42.89 -78.86  \n",
       "1     Lakeville  44.68 -93.24  \n",
       "2         Parma  41.38 -81.73  \n",
       "3  Fayetteville  35.07 -78.90  \n",
       "4       Fishers  39.95 -86.02  "
      ]
     },
     "execution_count": 4,
     "metadata": {},
     "output_type": "execute_result"
    }
   ],
   "source": [
    "raw_data = raw_data.drop(columns=[\"timestamp\", \"country\", \"test\"])\n",
    "raw_data.head(5)"
   ]
  },
  {
   "cell_type": "markdown",
   "id": "0fab1144-6360-4015-8182-f9b5ad5bdd1c",
   "metadata": {},
   "source": [
    "Research Question: Does type of device (mobile or web) influences the difference in conversion rate under each price `($39 and $59)`. \n",
    "\n",
    "Null Hypothesis: The type of device does not influence the difference in conversion rate under each price.\n",
    "\n",
    "Alternative Hypothesis: The type of device does influence the difference in conversion rate under each price.\n",
    "\n",
    "Our test statistics is: Statistics = (Conversion Rate at 39 Mobile - Conversion rate at 59 Mobile) - (Conversion Rate at 39 Web - Conversion rate at 59 Web)\n",
    "<br>Null Hypothesis: Test Statistics = 0\n",
    "<br>Alternative Hypothesis: Test Statistic != 0"
   ]
  },
  {
   "cell_type": "markdown",
   "id": "a22d2062-e944-4ab8-9911-5588b412b29d",
   "metadata": {},
   "source": [
    "First, we further clean up the dataset"
   ]
  },
  {
   "cell_type": "code",
   "execution_count": 5,
   "id": "4b7cecaf-e89d-4cd3-9ca9-a58bce7b34f7",
   "metadata": {},
   "outputs": [
    {
     "data": {
      "text/html": [
       "<div>\n",
       "<style scoped>\n",
       "    .dataframe tbody tr th:only-of-type {\n",
       "        vertical-align: middle;\n",
       "    }\n",
       "\n",
       "    .dataframe tbody tr th {\n",
       "        vertical-align: top;\n",
       "    }\n",
       "\n",
       "    .dataframe thead th {\n",
       "        text-align: right;\n",
       "    }\n",
       "</style>\n",
       "<table border=\"1\" class=\"dataframe\">\n",
       "  <thead>\n",
       "    <tr style=\"text-align: right;\">\n",
       "      <th></th>\n",
       "      <th>device</th>\n",
       "      <th>price</th>\n",
       "      <th>converted</th>\n",
       "    </tr>\n",
       "  </thead>\n",
       "  <tbody>\n",
       "    <tr>\n",
       "      <th>0</th>\n",
       "      <td>mobile</td>\n",
       "      <td>39</td>\n",
       "      <td>0</td>\n",
       "    </tr>\n",
       "    <tr>\n",
       "      <th>1</th>\n",
       "      <td>mobile</td>\n",
       "      <td>39</td>\n",
       "      <td>0</td>\n",
       "    </tr>\n",
       "    <tr>\n",
       "      <th>2</th>\n",
       "      <td>mobile</td>\n",
       "      <td>39</td>\n",
       "      <td>0</td>\n",
       "    </tr>\n",
       "    <tr>\n",
       "      <th>3</th>\n",
       "      <td>mobile</td>\n",
       "      <td>59</td>\n",
       "      <td>0</td>\n",
       "    </tr>\n",
       "    <tr>\n",
       "      <th>4</th>\n",
       "      <td>web</td>\n",
       "      <td>39</td>\n",
       "      <td>0</td>\n",
       "    </tr>\n",
       "  </tbody>\n",
       "</table>\n",
       "</div>"
      ],
      "text/plain": [
       "   device  price  converted\n",
       "0  mobile     39          0\n",
       "1  mobile     39          0\n",
       "2  mobile     39          0\n",
       "3  mobile     59          0\n",
       "4     web     39          0"
      ]
     },
     "execution_count": 5,
     "metadata": {},
     "output_type": "execute_result"
    }
   ],
   "source": [
    "raw_data = raw_data.drop(columns=['user_id','source','operative_system',\"city\",'lat','long'])\n",
    "raw_data.head(5)"
   ]
  },
  {
   "cell_type": "code",
   "execution_count": 6,
   "id": "30532c98-8b47-4d14-a21b-d939eac1ee9a",
   "metadata": {},
   "outputs": [
    {
     "data": {
      "text/plain": [
       "device  price\n",
       "mobile  39       0.019593\n",
       "        59       0.016279\n",
       "web     39       0.019989\n",
       "        59       0.014352\n",
       "Name: converted, dtype: float64"
      ]
     },
     "execution_count": 6,
     "metadata": {},
     "output_type": "execute_result"
    }
   ],
   "source": [
    "grouped = raw_data.groupby(['device', 'price'])['converted'].mean()\n",
    "grouped"
   ]
  },
  {
   "cell_type": "code",
   "execution_count": 7,
   "id": "de63069e-8fba-4a98-a77e-8945a88759ba",
   "metadata": {},
   "outputs": [],
   "source": [
    "conversion_mobile_39 = grouped['mobile', 39]\n",
    "conversion_mobile_59 = grouped['mobile', 59]\n",
    "conversion_web_39 = grouped['web', 39]\n",
    "conversion_web_59 = grouped['web', 59]"
   ]
  },
  {
   "cell_type": "markdown",
   "id": "5d9c1428-45a9-4a3e-9d48-d8d4d37c548d",
   "metadata": {},
   "source": [
    "Calculate Observed Statistics: Statistics = (Conversion Rate at 39 Mobile - Conversion rate at 59 Mobile) - (Conversion Rate at 39 Web - Conversion rate at 59 Web)"
   ]
  },
  {
   "cell_type": "code",
   "execution_count": 8,
   "id": "f055eb47-3068-4356-9c2d-7ac82617543d",
   "metadata": {},
   "outputs": [
    {
     "data": {
      "text/plain": [
       "np.float64(-0.0023230310007339803)"
      ]
     },
     "execution_count": 8,
     "metadata": {},
     "output_type": "execute_result"
    }
   ],
   "source": [
    "observed = (conversion_mobile_39 - conversion_mobile_59) - (conversion_web_39 - conversion_web_59)\n",
    "observed"
   ]
  },
  {
   "cell_type": "markdown",
   "id": "4c0ac080-7e59-4d12-8599-8c8f451c1249",
   "metadata": {},
   "source": [
    "Next, we are going to simulate test statistics under null hypothesis by shuffling labels to see the influence of device on test statistics."
   ]
  },
  {
   "cell_type": "code",
   "execution_count": 9,
   "id": "bf1ace2e-5a3b-45eb-b00c-41ac8064921d",
   "metadata": {},
   "outputs": [],
   "source": [
    "def get_shuffled_tbale(table, cata_var, num_var_list):\n",
    "    \"\"\"Generate a new table with shuffled catagorical variable\"\"\"\n",
    "    shuffled_column = table[cata_var].sample(frac=1, replace=False).reset_index(drop=True)\n",
    "    new_table = pd.DataFrame({cata_var: shuffled_column,})\n",
    "    for num_var in num_var_list:\n",
    "        new_table[num_var] = table[num_var]\n",
    "    return new_table    "
   ]
  },
  {
   "cell_type": "code",
   "execution_count": 10,
   "id": "7111d76b-796b-4cfa-8b6a-37c6da59c4ab",
   "metadata": {},
   "outputs": [],
   "source": [
    "def get_test_statistics(tabel):\n",
    "    grouped = tabel.groupby([\"device\", \"price\"])[\"converted\"].mean()\n",
    "    conversion_mobile_39 = grouped['mobile', 39]\n",
    "    conversion_mobile_59 = grouped['mobile', 59]\n",
    "    conversion_web_39 = grouped['web', 39]\n",
    "    conversion_web_59 = grouped['web', 59]\n",
    "    predicted = (conversion_mobile_39 - conversion_mobile_59) - (conversion_web_39 - conversion_web_59)\n",
    "    return predicted"
   ]
  },
  {
   "cell_type": "markdown",
   "id": "b7a7db5c-f205-4697-a215-df633f185cfd",
   "metadata": {},
   "source": [
    "Below is a sample function that can automatically generate a shuffled table and generate test statistic"
   ]
  },
  {
   "cell_type": "code",
   "execution_count": 11,
   "id": "20a29c69-5fb5-4f45-bd51-9e8d19d585cc",
   "metadata": {},
   "outputs": [],
   "source": [
    "#get_test_statistics(get_shuffled_tbale(raw_data, \"device\", [\"price\", \"converted\"]))"
   ]
  },
  {
   "cell_type": "markdown",
   "id": "d5a791cf-67c9-4095-94d8-0bba525bae1a",
   "metadata": {},
   "source": [
    "Then, we reproduce the process for `10000` times and use histogram to visualize the distribution of test statistics."
   ]
  },
  {
   "cell_type": "code",
   "execution_count": 12,
   "id": "ab66d5b3-159f-435b-977a-411263fec9a2",
   "metadata": {},
   "outputs": [],
   "source": [
    "test_statistics_list = list()\n",
    "for i in range(2000):\n",
    "    test_statistics_list.append(float(get_test_statistics(get_shuffled_tbale(raw_data, \"device\", [\"price\", \"converted\"]))))"
   ]
  },
  {
   "cell_type": "code",
   "execution_count": 13,
   "id": "2327ac12-01ce-4e48-abd1-9763e465a137",
   "metadata": {},
   "outputs": [
    {
     "data": {
      "image/png": "[encoded data removed]",
      "text/plain": [
       "<Figure size 640x480 with 1 Axes>"
      ]
     },
     "metadata": {},
     "output_type": "display_data"
    }
   ],
   "source": [
    "fig, ax = plt.subplots(1)\n",
    "sns.histplot(test_statistics_list, bins=60, color=\"red\", label='Simulated Statistics')\n",
    "ax.axvline(x=observed, linestyle='-.', color='black', label='measured statsitic')\n",
    "ax.legend()\n",
    "plt.show()"
   ]
  },
  {
   "cell_type": "code",
   "execution_count": 14,
   "id": "94a42f0d-e03b-4c3d-b4a7-e3f31ec61172",
   "metadata": {},
   "outputs": [
    {
     "data": {
      "text/plain": [
       "np.float64(0.024)"
      ]
     },
     "execution_count": 14,
     "metadata": {},
     "output_type": "execute_result"
    }
   ],
   "source": [
    "p_value1 = (test_statistics_list <= observed).sum() / 1000\n",
    "p_value1"
   ]
  },
  {
   "cell_type": "code",
   "execution_count": 29,
   "id": "281d3b09-f9bf-4d3d-8668-f4a7d73dc108",
   "metadata": {},
   "outputs": [
    {
     "name": "stdout",
     "output_type": "stream",
     "text": [
      "error: unknown subcommand: `main'\n",
      "usage: git remote [-v | --verbose]\n",
      "   or: git remote add [-t <branch>] [-m <master>] [-f] [--tags | --no-tags] [--mirror=<fetch|push>] <name> <url>\n",
      "   or: git remote rename [--[no-]progress] <old> <new>\n",
      "   or: git remote remove <name>\n",
      "   or: git remote set-head <name> (-a | --auto | -d | --delete | <branch>)\n",
      "   or: git remote [-v | --verbose] show [-n] <name>\n",
      "   or: git remote prune [-n | --dry-run] <name>\n",
      "   or: git remote [-v | --verbose] update [-p | --prune] [(<group> | <remote>)...]\n",
      "   or: git remote set-branches [--add] <name> <branch>...\n",
      "   or: git remote get-url [--push] [--all] <name>\n",
      "   or: git remote set-url [--push] <name> <newurl> [<oldurl>]\n",
      "   or: git remote set-url --add <name> <newurl>\n",
      "   or: git remote set-url --delete <name> <url>\n",
      "\n",
      "    -v, --verbose         be verbose; must be placed before a subcommand\n",
      "\n"
     ]
    }
   ],
   "source": [
    "! git remote main"
   ]
  },
  {
   "cell_type": "code",
   "execution_count": null,
   "id": "437ecfed-bdff-473a-b810-eeb084e65034",
   "metadata": {},
   "outputs": [],
   "source": []
  }
 ],
 "metadata": {
  "kernelspec": {
   "display_name": "Python 3 (ipykernel)",
   "language": "python",
   "name": "python3"
  },
  "language_info": {
   "codemirror_mode": {
    "name": "ipython",
    "version": 3
   },
   "file_extension": ".py",
   "mimetype": "text/x-python",
   "name": "python",
   "nbconvert_exporter": "python",
   "pygments_lexer": "ipython3",
   "version": "3.10.10"
  }
 },
 "nbformat": 4,
 "nbformat_minor": 5
}
